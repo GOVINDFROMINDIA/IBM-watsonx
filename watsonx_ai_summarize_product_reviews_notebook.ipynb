{
  "cells": [
    {
      "cell_type": "markdown",
      "metadata": {
        "id": "view-in-github",
        "colab_type": "text"
      },
      "source": [
        "<a href=\"https://colab.research.google.com/github/GOVINDFROMINDIA/IBM-watsonx/blob/main/watsonx_ai_summarize_product_reviews_notebook.ipynb\" target=\"_parent\"><img src=\"https://colab.research.google.com/assets/colab-badge.svg\" alt=\"Open In Colab\"/></a>"
      ]
    },
    {
      "cell_type": "markdown",
      "metadata": {
        "collapsed": true,
        "id": "BesFb7v9fZgi"
      },
      "source": [
        "![image](https://raw.githubusercontent.com/IBM/watson-machine-learning-samples/master/cloud/notebooks/headers/watsonx-Prompt_Lab-Notebook.png)\n",
        "# Use Watsonx to analyze customer review comments to gain insights inorder to determine improvements in product"
      ]
    },
    {
      "cell_type": "markdown",
      "metadata": {
        "id": "ctbLuUpmfZgj"
      },
      "source": [
        "**Note:** Please note that for the watsonx challenge, please run these notebooks in IBM Cloud and not on on your laptop/desktop."
      ]
    },
    {
      "cell_type": "markdown",
      "metadata": {
        "id": "H8O-Qle6fZgj"
      },
      "source": [
        "This notebook contains the steps and code to demonstrate support of text summarization in Watsonx. It introduces commands for data retrieval, model testing and scoring.\n",
        "\n",
        "Some familiarity with Python is helpful. This notebook uses Python 3.10."
      ]
    },
    {
      "cell_type": "markdown",
      "metadata": {
        "id": "Vwjm2R6WfZgj"
      },
      "source": [
        "<a id=\"setup\"></a>\n",
        "## Set up the environment"
      ]
    },
    {
      "cell_type": "markdown",
      "metadata": {
        "id": "mmJRJoszfZgj"
      },
      "source": [
        "### Install and import the dependecies"
      ]
    },
    {
      "cell_type": "code",
      "execution_count": 1,
      "metadata": {
        "colab": {
          "base_uri": "https://localhost:8080/"
        },
        "id": "KyhU2hLgfZgj",
        "outputId": "8f9093ed-f16c-4868-95e3-787e35886b50"
      },
      "outputs": [
        {
          "output_type": "stream",
          "name": "stdout",
          "text": [
            "Requirement already satisfied: six>=1.5 in /usr/local/lib/python3.10/dist-packages (from python-dateutil>=2.8.1->pandas->datasets) (1.16.0)\n",
            "Requirement already satisfied: threadpoolctl>=2.0.0 in /usr/local/lib/python3.10/dist-packages (from scikit-learn) (3.5.0)\n",
            "Requirement already satisfied: six>=1.10.0 in /usr/local/lib/python3.10/dist-packages (from lomond->ibm-watson-machine-learning==1.0.349) (1.16.0)\n",
            "Requirement already satisfied: rouge_score in /usr/local/lib/python3.10/dist-packages (0.1.2)\n",
            "Requirement already satisfied: absl-py in /usr/local/lib/python3.10/dist-packages (from rouge_score) (1.4.0)\n",
            "Requirement already satisfied: nltk in /usr/local/lib/python3.10/dist-packages (from rouge_score) (3.8.1)\n",
            "Requirement already satisfied: numpy in /usr/local/lib/python3.10/dist-packages (from rouge_score) (1.25.2)\n",
            "Requirement already satisfied: six>=1.14.0 in /usr/local/lib/python3.10/dist-packages (from rouge_score) (1.16.0)\n",
            "Requirement already satisfied: click in /usr/local/lib/python3.10/dist-packages (from nltk->rouge_score) (8.1.7)\n",
            "Requirement already satisfied: joblib in /usr/local/lib/python3.10/dist-packages (from nltk->rouge_score) (1.4.2)\n",
            "Requirement already satisfied: regex>=2021.8.3 in /usr/local/lib/python3.10/dist-packages (from nltk->rouge_score) (2024.5.15)\n",
            "Requirement already satisfied: tqdm in /usr/local/lib/python3.10/dist-packages (from nltk->rouge_score) (4.66.4)\n",
            "Requirement already satisfied: evaluate in /usr/local/lib/python3.10/dist-packages (0.4.2)\n",
            "Requirement already satisfied: datasets>=2.0.0 in /usr/local/lib/python3.10/dist-packages (from evaluate) (2.20.0)\n",
            "Requirement already satisfied: numpy>=1.17 in /usr/local/lib/python3.10/dist-packages (from evaluate) (1.25.2)\n",
            "Requirement already satisfied: dill in /usr/local/lib/python3.10/dist-packages (from evaluate) (0.3.8)\n",
            "Requirement already satisfied: pandas in /usr/local/lib/python3.10/dist-packages (from evaluate) (1.5.3)\n",
            "Requirement already satisfied: requests>=2.19.0 in /usr/local/lib/python3.10/dist-packages (from evaluate) (2.32.3)\n",
            "Requirement already satisfied: tqdm>=4.62.1 in /usr/local/lib/python3.10/dist-packages (from evaluate) (4.66.4)\n",
            "Requirement already satisfied: xxhash in /usr/local/lib/python3.10/dist-packages (from evaluate) (3.4.1)\n",
            "Requirement already satisfied: multiprocess in /usr/local/lib/python3.10/dist-packages (from evaluate) (0.70.16)\n",
            "Requirement already satisfied: fsspec[http]>=2021.05.0 in /usr/local/lib/python3.10/dist-packages (from evaluate) (2023.6.0)\n",
            "Requirement already satisfied: huggingface-hub>=0.7.0 in /usr/local/lib/python3.10/dist-packages (from evaluate) (0.23.4)\n",
            "Requirement already satisfied: packaging in /usr/local/lib/python3.10/dist-packages (from evaluate) (24.1)\n",
            "Requirement already satisfied: filelock in /usr/local/lib/python3.10/dist-packages (from datasets>=2.0.0->evaluate) (3.15.1)\n",
            "Requirement already satisfied: pyarrow>=15.0.0 in /usr/local/lib/python3.10/dist-packages (from datasets>=2.0.0->evaluate) (16.1.0)\n",
            "Requirement already satisfied: pyarrow-hotfix in /usr/local/lib/python3.10/dist-packages (from datasets>=2.0.0->evaluate) (0.6)\n",
            "Requirement already satisfied: aiohttp in /usr/local/lib/python3.10/dist-packages (from datasets>=2.0.0->evaluate) (3.9.5)\n",
            "Requirement already satisfied: pyyaml>=5.1 in /usr/local/lib/python3.10/dist-packages (from datasets>=2.0.0->evaluate) (6.0.1)\n",
            "Requirement already satisfied: typing-extensions>=3.7.4.3 in /usr/local/lib/python3.10/dist-packages (from huggingface-hub>=0.7.0->evaluate) (4.12.2)\n",
            "Requirement already satisfied: charset-normalizer<4,>=2 in /usr/local/lib/python3.10/dist-packages (from requests>=2.19.0->evaluate) (3.3.2)\n",
            "Requirement already satisfied: idna<4,>=2.5 in /usr/local/lib/python3.10/dist-packages (from requests>=2.19.0->evaluate) (3.7)\n",
            "Requirement already satisfied: urllib3<3,>=1.21.1 in /usr/local/lib/python3.10/dist-packages (from requests>=2.19.0->evaluate) (2.0.7)\n",
            "Requirement already satisfied: certifi>=2017.4.17 in /usr/local/lib/python3.10/dist-packages (from requests>=2.19.0->evaluate) (2024.6.2)\n",
            "Requirement already satisfied: python-dateutil>=2.8.1 in /usr/local/lib/python3.10/dist-packages (from pandas->evaluate) (2.9.0.post0)\n",
            "Requirement already satisfied: pytz>=2020.1 in /usr/local/lib/python3.10/dist-packages (from pandas->evaluate) (2023.4)\n",
            "Requirement already satisfied: aiosignal>=1.1.2 in /usr/local/lib/python3.10/dist-packages (from aiohttp->datasets>=2.0.0->evaluate) (1.3.1)\n",
            "Requirement already satisfied: attrs>=17.3.0 in /usr/local/lib/python3.10/dist-packages (from aiohttp->datasets>=2.0.0->evaluate) (23.2.0)\n",
            "Requirement already satisfied: frozenlist>=1.1.1 in /usr/local/lib/python3.10/dist-packages (from aiohttp->datasets>=2.0.0->evaluate) (1.4.1)\n",
            "Requirement already satisfied: multidict<7.0,>=4.5 in /usr/local/lib/python3.10/dist-packages (from aiohttp->datasets>=2.0.0->evaluate) (6.0.5)\n",
            "Requirement already satisfied: yarl<2.0,>=1.0 in /usr/local/lib/python3.10/dist-packages (from aiohttp->datasets>=2.0.0->evaluate) (1.9.4)\n",
            "Requirement already satisfied: async-timeout<5.0,>=4.0 in /usr/local/lib/python3.10/dist-packages (from aiohttp->datasets>=2.0.0->evaluate) (4.0.3)\n",
            "Requirement already satisfied: six>=1.5 in /usr/local/lib/python3.10/dist-packages (from python-dateutil>=2.8.1->pandas->evaluate) (1.16.0)\n"
          ]
        }
      ],
      "source": [
        "!pip install datasets | tail -n 1\n",
        "!pip install scikit-learn | tail -n 1\n",
        "!pip install ibm-watson-machine-learning==1.0.349 | tail -n 1\n",
        "!pip install rouge_score\n",
        "!pip install evaluate"
      ]
    },
    {
      "cell_type": "code",
      "execution_count": 2,
      "metadata": {
        "colab": {
          "base_uri": "https://localhost:8080/"
        },
        "id": "bJhJnB-NiFha",
        "outputId": "271d32bf-9822-4be5-b898-7defcea53e7d"
      },
      "outputs": [
        {
          "output_type": "stream",
          "name": "stdout",
          "text": [
            "fatal: destination path 'IBM-watsonx' already exists and is not an empty directory.\n",
            "/content/IBM-watsonx\n"
          ]
        }
      ],
      "source": [
        "# Clone the repository\n",
        "!git clone https://github.com/GOVINDFROMINDIA/IBM-watsonx.git\n",
        "\n",
        "# Navigate into the directory\n",
        "%cd IBM-watsonx\n"
      ]
    },
    {
      "cell_type": "code",
      "execution_count": 3,
      "metadata": {
        "id": "5x_pVfpvfZgk"
      },
      "outputs": [],
      "source": [
        "import os, getpass\n",
        "from pandas import read_csv\n",
        "import evaluate"
      ]
    },
    {
      "cell_type": "markdown",
      "metadata": {
        "id": "BJ9aqZPVfZgk"
      },
      "source": [
        "### Watsonx API connection\n",
        "This cell defines the credentials required to work with watsonx API for Foundation\n",
        "Model inferencing.\n",
        "\n",
        "**Action:** Provide the IBM Cloud user API key. Instructions have been provided to generate IBM Cloud API key. For details, see\n",
        "[documentation](https://cloud.ibm.com/docs/account?topic=account-userapikey&interface=ui)."
      ]
    },
    {
      "cell_type": "code",
      "execution_count": 4,
      "metadata": {
        "id": "gGtsXMFqfZgk",
        "colab": {
          "base_uri": "https://localhost:8080/",
          "height": 877
        },
        "outputId": "2c0e7065-ff73-451b-af27-874b0f65e6ef"
      },
      "outputs": [
        {
          "output_type": "stream",
          "name": "stdout",
          "text": [
            "Collecting ibm-cloud-sdk-core\n",
            "  Downloading ibm-cloud-sdk-core-3.20.1.tar.gz (62 kB)\n",
            "\u001b[2K     \u001b[90m━━━━━━━━━━━━━━━━━━━━━━━━━━━━━━━━━━━━━━━━\u001b[0m \u001b[32m62.1/62.1 kB\u001b[0m \u001b[31m1.8 MB/s\u001b[0m eta \u001b[36m0:00:00\u001b[0m\n",
            "\u001b[?25h  Installing build dependencies ... \u001b[?25l\u001b[?25hdone\n",
            "  Getting requirements to build wheel ... \u001b[?25l\u001b[?25hdone\n",
            "  Preparing metadata (pyproject.toml) ... \u001b[?25l\u001b[?25hdone\n",
            "Collecting requests<2.32.3,>=2.31.0 (from ibm-cloud-sdk-core)\n",
            "  Downloading requests-2.32.2-py3-none-any.whl (63 kB)\n",
            "\u001b[2K     \u001b[90m━━━━━━━━━━━━━━━━━━━━━━━━━━━━━━━━━━━━━━━━\u001b[0m \u001b[32m63.9/63.9 kB\u001b[0m \u001b[31m6.2 MB/s\u001b[0m eta \u001b[36m0:00:00\u001b[0m\n",
            "\u001b[?25hCollecting urllib3<3.0.0,>=2.1.0 (from ibm-cloud-sdk-core)\n",
            "  Downloading urllib3-2.2.2-py3-none-any.whl (121 kB)\n",
            "\u001b[2K     \u001b[90m━━━━━━━━━━━━━━━━━━━━━━━━━━━━━━━━━━━━━━━━\u001b[0m \u001b[32m121.4/121.4 kB\u001b[0m \u001b[31m13.8 MB/s\u001b[0m eta \u001b[36m0:00:00\u001b[0m\n",
            "\u001b[?25hRequirement already satisfied: python-dateutil<3.0.0,>=2.8.2 in /usr/local/lib/python3.10/dist-packages (from ibm-cloud-sdk-core) (2.9.0.post0)\n",
            "Collecting PyJWT<3.0.0,>=2.8.0 (from ibm-cloud-sdk-core)\n",
            "  Downloading PyJWT-2.8.0-py3-none-any.whl (22 kB)\n",
            "Requirement already satisfied: six>=1.5 in /usr/local/lib/python3.10/dist-packages (from python-dateutil<3.0.0,>=2.8.2->ibm-cloud-sdk-core) (1.16.0)\n",
            "Requirement already satisfied: charset-normalizer<4,>=2 in /usr/local/lib/python3.10/dist-packages (from requests<2.32.3,>=2.31.0->ibm-cloud-sdk-core) (3.3.2)\n",
            "Requirement already satisfied: idna<4,>=2.5 in /usr/local/lib/python3.10/dist-packages (from requests<2.32.3,>=2.31.0->ibm-cloud-sdk-core) (3.7)\n",
            "Requirement already satisfied: certifi>=2017.4.17 in /usr/local/lib/python3.10/dist-packages (from requests<2.32.3,>=2.31.0->ibm-cloud-sdk-core) (2024.6.2)\n",
            "Building wheels for collected packages: ibm-cloud-sdk-core\n",
            "  Building wheel for ibm-cloud-sdk-core (pyproject.toml) ... \u001b[?25l\u001b[?25hdone\n",
            "  Created wheel for ibm-cloud-sdk-core: filename=ibm_cloud_sdk_core-3.20.1-py3-none-any.whl size=101529 sha256=4decc0347e290f7e8b1ee5aa45d1047543c8d8bcccd69ed84e2e315e70006119\n",
            "  Stored in directory: /root/.cache/pip/wheels/b1/80/5b/12af32c69e0bde3322cb9c1809952e8ed9f2a2a39509ee5374\n",
            "Successfully built ibm-cloud-sdk-core\n",
            "Installing collected packages: urllib3, PyJWT, requests, ibm-cloud-sdk-core\n",
            "  Attempting uninstall: urllib3\n",
            "    Found existing installation: urllib3 2.0.7\n",
            "    Uninstalling urllib3-2.0.7:\n",
            "      Successfully uninstalled urllib3-2.0.7\n",
            "  Attempting uninstall: PyJWT\n",
            "    Found existing installation: PyJWT 2.3.0\n",
            "    Uninstalling PyJWT-2.3.0:\n",
            "      Successfully uninstalled PyJWT-2.3.0\n",
            "  Attempting uninstall: requests\n",
            "    Found existing installation: requests 2.32.3\n",
            "    Uninstalling requests-2.32.3:\n",
            "      Successfully uninstalled requests-2.32.3\n",
            "\u001b[31mERROR: pip's dependency resolver does not currently take into account all the packages that are installed. This behaviour is the source of the following dependency conflicts.\n",
            "google-colab 1.0.0 requires pandas==2.0.3, but you have pandas 1.5.3 which is incompatible.\n",
            "google-colab 1.0.0 requires requests==2.31.0, but you have requests 2.32.2 which is incompatible.\n",
            "ibm-cos-sdk-core 2.13.5 requires requests<3.0,>=2.32.3, but you have requests 2.32.2 which is incompatible.\n",
            "ibm-cos-sdk-core 2.13.5 requires urllib3<2.2,>=1.26.18; python_version >= \"3.10\", but you have urllib3 2.2.2 which is incompatible.\u001b[0m\u001b[31m\n",
            "\u001b[0mSuccessfully installed PyJWT-2.8.0 ibm-cloud-sdk-core-3.20.1 requests-2.32.2 urllib3-2.2.2\n"
          ]
        },
        {
          "output_type": "display_data",
          "data": {
            "application/vnd.colab-display-data+json": {
              "pip_warning": {
                "packages": [
                  "requests"
                ]
              },
              "id": "9e7d7a65a83d421c94f27f7e817089f9"
            }
          },
          "metadata": {}
        },
        {
          "name": "stdout",
          "output_type": "stream",
          "text": [
            "Please enter your api key (hit enter): ··········\n"
          ]
        }
      ],
      "source": [
        "!pip install ibm-cloud-sdk-core\n",
        "from ibm_cloud_sdk_core import IAMTokenManager\n",
        "from ibm_cloud_sdk_core.authenticators import IAMAuthenticator, BearerTokenAuthenticator\n",
        "import os, getpass\n",
        "\n",
        "access_token = IAMTokenManager(\n",
        "    apikey = getpass.getpass(\"Please enter your api key (hit enter): \"),\n",
        "    url = \"https://iam.cloud.ibm.com/identity/token\"\n",
        ").get_token()"
      ]
    },
    {
      "cell_type": "markdown",
      "metadata": {
        "id": "z-vIbYlSfZgk"
      },
      "source": [
        "### Defining the project id\n",
        "The API requires project id that provides the context for the call. We will obtain the id from the project in which this notebook runs. When you run notebook on IBM Cloud, project in which it runs is saved as environment variable PROJECT_ID.\n",
        "\n",
        "**Hint**: You can find the `project_id` as follows. Open the prompt lab in watsonx.ai. At the very top of the UI, there will be `Projects / <project name> /`. Click on the `<project name>` link. Then get the `project_id` from Project's Manage tab (Project -> Manage -> General -> Details).\n"
      ]
    },
    {
      "cell_type": "code",
      "execution_count": 5,
      "metadata": {
        "id": "aO8d8uK_fZgk"
      },
      "outputs": [],
      "source": [
        "try:\n",
        "    project_id = os.environ[\"PROJECT_ID\"]\n",
        "except KeyError:\n",
        "    project_id = \"e7b00d41-c350-4245-b52d-fd5666f64c79\""
      ]
    },
    {
      "cell_type": "markdown",
      "metadata": {
        "id": "t9SPhRgofZgk"
      },
      "source": [
        "<a id=\"data\"></a>\n",
        "## Train/test data loading"
      ]
    },
    {
      "cell_type": "markdown",
      "metadata": {
        "id": "YiL5AKLPfZgk"
      },
      "source": [
        "Load train and test datasets. At first, training dataset (`train_data`) should be used to work with the models to prepare and tune prompt. Then, test dataset (`test_data`) should be used to calculate the metrics score for selected model, defined prompts and parameters."
      ]
    },
    {
      "cell_type": "code",
      "execution_count": 7,
      "metadata": {
        "id": "1usIL1QJfZgk"
      },
      "outputs": [],
      "source": [
        "filename_test = '/content/IBM-watsonx/watsonx-ai-summarization-track-files/test.csv'\n",
        "filename_train = '/content/IBM-watsonx/watsonx-ai-summarization-track-files/train.csv'\n",
        "\n",
        "test_data = read_csv(filename_test)\n",
        "train_data = read_csv(filename_train)"
      ]
    },
    {
      "cell_type": "code",
      "execution_count": 8,
      "metadata": {
        "id": "l8Q-oro9fZgl",
        "colab": {
          "base_uri": "https://localhost:8080/",
          "height": 206
        },
        "outputId": "90786d1c-c893-4a5a-ca9e-573df5b0f2b0"
      },
      "outputs": [
        {
          "output_type": "execute_result",
          "data": {
            "text/plain": [
              "                                             reviews  \\\n",
              "0  1: Very nice freezer works perfect, i'm so hap...   \n",
              "1  1: These machines are beautiful I chose the co...   \n",
              "2  1: I am very happy with the way it cleans, and...   \n",
              "3  1: So happy with my new ABC stove, it’s super ...   \n",
              "4  1: It really performs great and it is very eas...   \n",
              "\n",
              "                                             summary  \n",
              "0  Features customers liked about the product: 1....  \n",
              "1  Features customers liked about the product: 1....  \n",
              "2  Features customers are happy about: 1. Cleanin...  \n",
              "3  Features customers liked about the ABC stove: ...  \n",
              "4  Features that customers liked about the washer...  "
            ],
            "text/html": [
              "\n",
              "  <div id=\"df-652cf0da-c947-45f9-9b87-44e59461ab5e\" class=\"colab-df-container\">\n",
              "    <div>\n",
              "<style scoped>\n",
              "    .dataframe tbody tr th:only-of-type {\n",
              "        vertical-align: middle;\n",
              "    }\n",
              "\n",
              "    .dataframe tbody tr th {\n",
              "        vertical-align: top;\n",
              "    }\n",
              "\n",
              "    .dataframe thead th {\n",
              "        text-align: right;\n",
              "    }\n",
              "</style>\n",
              "<table border=\"1\" class=\"dataframe\">\n",
              "  <thead>\n",
              "    <tr style=\"text-align: right;\">\n",
              "      <th></th>\n",
              "      <th>reviews</th>\n",
              "      <th>summary</th>\n",
              "    </tr>\n",
              "  </thead>\n",
              "  <tbody>\n",
              "    <tr>\n",
              "      <th>0</th>\n",
              "      <td>1: Very nice freezer works perfect, i'm so hap...</td>\n",
              "      <td>Features customers liked about the product: 1....</td>\n",
              "    </tr>\n",
              "    <tr>\n",
              "      <th>1</th>\n",
              "      <td>1: These machines are beautiful I chose the co...</td>\n",
              "      <td>Features customers liked about the product: 1....</td>\n",
              "    </tr>\n",
              "    <tr>\n",
              "      <th>2</th>\n",
              "      <td>1: I am very happy with the way it cleans, and...</td>\n",
              "      <td>Features customers are happy about: 1. Cleanin...</td>\n",
              "    </tr>\n",
              "    <tr>\n",
              "      <th>3</th>\n",
              "      <td>1: So happy with my new ABC stove, it’s super ...</td>\n",
              "      <td>Features customers liked about the ABC stove: ...</td>\n",
              "    </tr>\n",
              "    <tr>\n",
              "      <th>4</th>\n",
              "      <td>1: It really performs great and it is very eas...</td>\n",
              "      <td>Features that customers liked about the washer...</td>\n",
              "    </tr>\n",
              "  </tbody>\n",
              "</table>\n",
              "</div>\n",
              "    <div class=\"colab-df-buttons\">\n",
              "\n",
              "  <div class=\"colab-df-container\">\n",
              "    <button class=\"colab-df-convert\" onclick=\"convertToInteractive('df-652cf0da-c947-45f9-9b87-44e59461ab5e')\"\n",
              "            title=\"Convert this dataframe to an interactive table.\"\n",
              "            style=\"display:none;\">\n",
              "\n",
              "  <svg xmlns=\"http://www.w3.org/2000/svg\" height=\"24px\" viewBox=\"0 -960 960 960\">\n",
              "    <path d=\"M120-120v-720h720v720H120Zm60-500h600v-160H180v160Zm220 220h160v-160H400v160Zm0 220h160v-160H400v160ZM180-400h160v-160H180v160Zm440 0h160v-160H620v160ZM180-180h160v-160H180v160Zm440 0h160v-160H620v160Z\"/>\n",
              "  </svg>\n",
              "    </button>\n",
              "\n",
              "  <style>\n",
              "    .colab-df-container {\n",
              "      display:flex;\n",
              "      gap: 12px;\n",
              "    }\n",
              "\n",
              "    .colab-df-convert {\n",
              "      background-color: #E8F0FE;\n",
              "      border: none;\n",
              "      border-radius: 50%;\n",
              "      cursor: pointer;\n",
              "      display: none;\n",
              "      fill: #1967D2;\n",
              "      height: 32px;\n",
              "      padding: 0 0 0 0;\n",
              "      width: 32px;\n",
              "    }\n",
              "\n",
              "    .colab-df-convert:hover {\n",
              "      background-color: #E2EBFA;\n",
              "      box-shadow: 0px 1px 2px rgba(60, 64, 67, 0.3), 0px 1px 3px 1px rgba(60, 64, 67, 0.15);\n",
              "      fill: #174EA6;\n",
              "    }\n",
              "\n",
              "    .colab-df-buttons div {\n",
              "      margin-bottom: 4px;\n",
              "    }\n",
              "\n",
              "    [theme=dark] .colab-df-convert {\n",
              "      background-color: #3B4455;\n",
              "      fill: #D2E3FC;\n",
              "    }\n",
              "\n",
              "    [theme=dark] .colab-df-convert:hover {\n",
              "      background-color: #434B5C;\n",
              "      box-shadow: 0px 1px 3px 1px rgba(0, 0, 0, 0.15);\n",
              "      filter: drop-shadow(0px 1px 2px rgba(0, 0, 0, 0.3));\n",
              "      fill: #FFFFFF;\n",
              "    }\n",
              "  </style>\n",
              "\n",
              "    <script>\n",
              "      const buttonEl =\n",
              "        document.querySelector('#df-652cf0da-c947-45f9-9b87-44e59461ab5e button.colab-df-convert');\n",
              "      buttonEl.style.display =\n",
              "        google.colab.kernel.accessAllowed ? 'block' : 'none';\n",
              "\n",
              "      async function convertToInteractive(key) {\n",
              "        const element = document.querySelector('#df-652cf0da-c947-45f9-9b87-44e59461ab5e');\n",
              "        const dataTable =\n",
              "          await google.colab.kernel.invokeFunction('convertToInteractive',\n",
              "                                                    [key], {});\n",
              "        if (!dataTable) return;\n",
              "\n",
              "        const docLinkHtml = 'Like what you see? Visit the ' +\n",
              "          '<a target=\"_blank\" href=https://colab.research.google.com/notebooks/data_table.ipynb>data table notebook</a>'\n",
              "          + ' to learn more about interactive tables.';\n",
              "        element.innerHTML = '';\n",
              "        dataTable['output_type'] = 'display_data';\n",
              "        await google.colab.output.renderOutput(dataTable, element);\n",
              "        const docLink = document.createElement('div');\n",
              "        docLink.innerHTML = docLinkHtml;\n",
              "        element.appendChild(docLink);\n",
              "      }\n",
              "    </script>\n",
              "  </div>\n",
              "\n",
              "\n",
              "<div id=\"df-a69f19d1-ef0f-4f64-b398-ce3c35b871bf\">\n",
              "  <button class=\"colab-df-quickchart\" onclick=\"quickchart('df-a69f19d1-ef0f-4f64-b398-ce3c35b871bf')\"\n",
              "            title=\"Suggest charts\"\n",
              "            style=\"display:none;\">\n",
              "\n",
              "<svg xmlns=\"http://www.w3.org/2000/svg\" height=\"24px\"viewBox=\"0 0 24 24\"\n",
              "     width=\"24px\">\n",
              "    <g>\n",
              "        <path d=\"M19 3H5c-1.1 0-2 .9-2 2v14c0 1.1.9 2 2 2h14c1.1 0 2-.9 2-2V5c0-1.1-.9-2-2-2zM9 17H7v-7h2v7zm4 0h-2V7h2v10zm4 0h-2v-4h2v4z\"/>\n",
              "    </g>\n",
              "</svg>\n",
              "  </button>\n",
              "\n",
              "<style>\n",
              "  .colab-df-quickchart {\n",
              "      --bg-color: #E8F0FE;\n",
              "      --fill-color: #1967D2;\n",
              "      --hover-bg-color: #E2EBFA;\n",
              "      --hover-fill-color: #174EA6;\n",
              "      --disabled-fill-color: #AAA;\n",
              "      --disabled-bg-color: #DDD;\n",
              "  }\n",
              "\n",
              "  [theme=dark] .colab-df-quickchart {\n",
              "      --bg-color: #3B4455;\n",
              "      --fill-color: #D2E3FC;\n",
              "      --hover-bg-color: #434B5C;\n",
              "      --hover-fill-color: #FFFFFF;\n",
              "      --disabled-bg-color: #3B4455;\n",
              "      --disabled-fill-color: #666;\n",
              "  }\n",
              "\n",
              "  .colab-df-quickchart {\n",
              "    background-color: var(--bg-color);\n",
              "    border: none;\n",
              "    border-radius: 50%;\n",
              "    cursor: pointer;\n",
              "    display: none;\n",
              "    fill: var(--fill-color);\n",
              "    height: 32px;\n",
              "    padding: 0;\n",
              "    width: 32px;\n",
              "  }\n",
              "\n",
              "  .colab-df-quickchart:hover {\n",
              "    background-color: var(--hover-bg-color);\n",
              "    box-shadow: 0 1px 2px rgba(60, 64, 67, 0.3), 0 1px 3px 1px rgba(60, 64, 67, 0.15);\n",
              "    fill: var(--button-hover-fill-color);\n",
              "  }\n",
              "\n",
              "  .colab-df-quickchart-complete:disabled,\n",
              "  .colab-df-quickchart-complete:disabled:hover {\n",
              "    background-color: var(--disabled-bg-color);\n",
              "    fill: var(--disabled-fill-color);\n",
              "    box-shadow: none;\n",
              "  }\n",
              "\n",
              "  .colab-df-spinner {\n",
              "    border: 2px solid var(--fill-color);\n",
              "    border-color: transparent;\n",
              "    border-bottom-color: var(--fill-color);\n",
              "    animation:\n",
              "      spin 1s steps(1) infinite;\n",
              "  }\n",
              "\n",
              "  @keyframes spin {\n",
              "    0% {\n",
              "      border-color: transparent;\n",
              "      border-bottom-color: var(--fill-color);\n",
              "      border-left-color: var(--fill-color);\n",
              "    }\n",
              "    20% {\n",
              "      border-color: transparent;\n",
              "      border-left-color: var(--fill-color);\n",
              "      border-top-color: var(--fill-color);\n",
              "    }\n",
              "    30% {\n",
              "      border-color: transparent;\n",
              "      border-left-color: var(--fill-color);\n",
              "      border-top-color: var(--fill-color);\n",
              "      border-right-color: var(--fill-color);\n",
              "    }\n",
              "    40% {\n",
              "      border-color: transparent;\n",
              "      border-right-color: var(--fill-color);\n",
              "      border-top-color: var(--fill-color);\n",
              "    }\n",
              "    60% {\n",
              "      border-color: transparent;\n",
              "      border-right-color: var(--fill-color);\n",
              "    }\n",
              "    80% {\n",
              "      border-color: transparent;\n",
              "      border-right-color: var(--fill-color);\n",
              "      border-bottom-color: var(--fill-color);\n",
              "    }\n",
              "    90% {\n",
              "      border-color: transparent;\n",
              "      border-bottom-color: var(--fill-color);\n",
              "    }\n",
              "  }\n",
              "</style>\n",
              "\n",
              "  <script>\n",
              "    async function quickchart(key) {\n",
              "      const quickchartButtonEl =\n",
              "        document.querySelector('#' + key + ' button');\n",
              "      quickchartButtonEl.disabled = true;  // To prevent multiple clicks.\n",
              "      quickchartButtonEl.classList.add('colab-df-spinner');\n",
              "      try {\n",
              "        const charts = await google.colab.kernel.invokeFunction(\n",
              "            'suggestCharts', [key], {});\n",
              "      } catch (error) {\n",
              "        console.error('Error during call to suggestCharts:', error);\n",
              "      }\n",
              "      quickchartButtonEl.classList.remove('colab-df-spinner');\n",
              "      quickchartButtonEl.classList.add('colab-df-quickchart-complete');\n",
              "    }\n",
              "    (() => {\n",
              "      let quickchartButtonEl =\n",
              "        document.querySelector('#df-a69f19d1-ef0f-4f64-b398-ce3c35b871bf button');\n",
              "      quickchartButtonEl.style.display =\n",
              "        google.colab.kernel.accessAllowed ? 'block' : 'none';\n",
              "    })();\n",
              "  </script>\n",
              "</div>\n",
              "\n",
              "    </div>\n",
              "  </div>\n"
            ],
            "application/vnd.google.colaboratory.intrinsic+json": {
              "type": "dataframe",
              "variable_name": "train_data",
              "summary": "{\n  \"name\": \"train_data\",\n  \"rows\": 10,\n  \"fields\": [\n    {\n      \"column\": \"reviews\",\n      \"properties\": {\n        \"dtype\": \"string\",\n        \"num_unique_values\": 10,\n        \"samples\": [\n          \"1: Took some time to get cold but other then that it's great for the money\\\\n2: Pretty nice cute looking functional refrigerator - needed for overflow of thanksgiving and Christmas food- and it worked out just fine! Really good value too on price and does not take up a lot of space in garage\\\\n3: Great value for the money. Unlike some refrigerators of this size, this one has a separate freezer door which should hold it's temperature better\\\\n\",\n          \"1: These machines are beautiful I chose the color Champagne when they came I was very pleased\\\\n2: This is the second washing machine I\\\\'ve bought from XYZ. The first was identical to the one I have now. I left it with my home in PA for the new buyers. I had such good luck with that pair (washer and dryer) that I bought a new pair for my new house (new to me!)\\\\n3: Washer does a fantastic job and has many options for washing cycles.\\\\n4: i bought this washer and dryer recently. its a wonderful product with innovative features. definitely recommend.\\\\n5: I had this machine installed with the matching drawer. Although nervous with such a purchase, I have had no issues and am extremely stoked about this machine.\\\\n6: Great washing machine super quick and quiet\\\\n7: Not only is this washer dryer combination esthetically pleasing, the features of the dryer are great benefit. It\\\\'s basic functions are reliable. Having the option to steam is pretty great as it helps with pet fur and allergens as well as quick ironing.\\\"\\\\n8: Love my new washer so much I actually look for laundry to do! Not only can you choose your wash time but you can pick how many spin cycles you need!\\\\n9: The delivery process was easy. The machine was easy to install. The capacity if pretty big. Love the steam function.\\\\n10: This item actually replaced what was similar 15 yrs. ago. This new model seems even more efficient. It also has new features which I enjoy.\\\\n\\\"\",\n          \"1: Huge load capacity, intelligent presets yet fully customizable.\\\\n2: Our builder uses PQR products. This washer is quiet, efficient, and large capacity.\\\\n3: I cant remember the last time that I had a PQR appliance! Very happy with this product. I especially like the water saving features and the huge capacity. Prefer this top ;oading to front loading. Have a dishwasher too and very happy with both products. Time will tell.\\\\n4: Easy Set up and ease of use. Many settings for different clothes and soil settings. Capacity is great, perfect for a family. I did have an issue with the hot water fill not shutting off. After running 6 to 8 loads, this issue resolved itself. Moderately quiet washer as well. Very happy with purchase.\\\\n5: Love the large capacity, the inverter feature instead of the agitator and how quickly it washes! VERY Quiet too!\\\\n6: This washer was so easy to use, and with a large capacity. Once the workers left we used it for 2 days straight with no problems.\\\\n\"\n        ],\n        \"semantic_type\": \"\",\n        \"description\": \"\"\n      }\n    },\n    {\n      \"column\": \"summary\",\n      \"properties\": {\n        \"dtype\": \"string\",\n        \"num_unique_values\": 10,\n        \"samples\": [\n          \"Features customers liked about the product: 1. The product was a good value for the money. 2. It had a separate freezer door, which helped maintain better temperature control. 3. The refrigerator was functional and did not take up a lot of space. 4. It was pretty and cute looking. Features customers did not like about the product: 1. The product took some time to get cold upon initial use.\",\n          \"Features customers liked about the product: 1. The machines are beautiful, with a color option of Champagne. 2. The washer does a fantastic job and has many options for washing cycles. 3. The washer and dryer combination is esthetically pleasing. 4. The features of the dryer are great benefits, reliable, and have useful functions like steam. 5. The delivery process was easy, and the machine was easy to install. 6. The capacity of the machine is pretty big. 7. The steam function is a great feature. 8. The washer has the option to choose your wash time and pick how many spin cycles you need. 9. The new model seems even more efficient than the old one. 10. The new model has new features that the customer enjoys. Features customers did not like about the product or had issues with: 1. No specific issues or complaints were mentioned about the product.\",\n          \"Features customers liked about the product: 1. Huge load capacity 2. Intelligent presets that can be customized 3. Quiet and efficient operation 4. Easy setup and ease of use 5. Many settings for different clothes and soil types 6. Inverter feature instead of an agitator 7. Large capacity suitable for a family 8. Quick washing times 9. Quiet operation Features customers did not like about the product: 1. An issue with the hot water fill not shutting off after several loads 2. No specific issues mentioned in this review\"\n        ],\n        \"semantic_type\": \"\",\n        \"description\": \"\"\n      }\n    }\n  ]\n}"
            }
          },
          "metadata": {},
          "execution_count": 8
        }
      ],
      "source": [
        "train_data.head()"
      ]
    },
    {
      "cell_type": "code",
      "execution_count": 9,
      "metadata": {
        "id": "9vNcPoZbfZgl",
        "colab": {
          "base_uri": "https://localhost:8080/",
          "height": 206
        },
        "outputId": "eb42a9a1-83de-4eac-b7ef-ff586915d29d"
      },
      "outputs": [
        {
          "output_type": "execute_result",
          "data": {
            "text/plain": [
              "                                             reviews  \\\n",
              "0  1: (This review was collected as part of a pro...   \n",
              "1  1: Works great! No leaks, sturdy build, relati...   \n",
              "2  1: I’ve had it two months,very pleased quite,e...   \n",
              "3  1: Fridge looks great and is working great\\n2:...   \n",
              "4  1: I love the new washer works excellent\\n2: I...   \n",
              "\n",
              "                                             summary  \n",
              "0  Features customers liked about the washer: 1. ...  \n",
              "1  Features customers liked about the washer: 1. ...  \n",
              "2  Features customers liked about the washer: 1. ...  \n",
              "3  Features customers liked about the product: 1....  \n",
              "4  Features customers liked about the washer: 1. ...  "
            ],
            "text/html": [
              "\n",
              "  <div id=\"df-8fbab49b-7bd6-4796-9f65-ac01438a2012\" class=\"colab-df-container\">\n",
              "    <div>\n",
              "<style scoped>\n",
              "    .dataframe tbody tr th:only-of-type {\n",
              "        vertical-align: middle;\n",
              "    }\n",
              "\n",
              "    .dataframe tbody tr th {\n",
              "        vertical-align: top;\n",
              "    }\n",
              "\n",
              "    .dataframe thead th {\n",
              "        text-align: right;\n",
              "    }\n",
              "</style>\n",
              "<table border=\"1\" class=\"dataframe\">\n",
              "  <thead>\n",
              "    <tr style=\"text-align: right;\">\n",
              "      <th></th>\n",
              "      <th>reviews</th>\n",
              "      <th>summary</th>\n",
              "    </tr>\n",
              "  </thead>\n",
              "  <tbody>\n",
              "    <tr>\n",
              "      <th>0</th>\n",
              "      <td>1: (This review was collected as part of a pro...</td>\n",
              "      <td>Features customers liked about the washer: 1. ...</td>\n",
              "    </tr>\n",
              "    <tr>\n",
              "      <th>1</th>\n",
              "      <td>1: Works great! No leaks, sturdy build, relati...</td>\n",
              "      <td>Features customers liked about the washer: 1. ...</td>\n",
              "    </tr>\n",
              "    <tr>\n",
              "      <th>2</th>\n",
              "      <td>1: I’ve had it two months,very pleased quite,e...</td>\n",
              "      <td>Features customers liked about the washer: 1. ...</td>\n",
              "    </tr>\n",
              "    <tr>\n",
              "      <th>3</th>\n",
              "      <td>1: Fridge looks great and is working great\\n2:...</td>\n",
              "      <td>Features customers liked about the product: 1....</td>\n",
              "    </tr>\n",
              "    <tr>\n",
              "      <th>4</th>\n",
              "      <td>1: I love the new washer works excellent\\n2: I...</td>\n",
              "      <td>Features customers liked about the washer: 1. ...</td>\n",
              "    </tr>\n",
              "  </tbody>\n",
              "</table>\n",
              "</div>\n",
              "    <div class=\"colab-df-buttons\">\n",
              "\n",
              "  <div class=\"colab-df-container\">\n",
              "    <button class=\"colab-df-convert\" onclick=\"convertToInteractive('df-8fbab49b-7bd6-4796-9f65-ac01438a2012')\"\n",
              "            title=\"Convert this dataframe to an interactive table.\"\n",
              "            style=\"display:none;\">\n",
              "\n",
              "  <svg xmlns=\"http://www.w3.org/2000/svg\" height=\"24px\" viewBox=\"0 -960 960 960\">\n",
              "    <path d=\"M120-120v-720h720v720H120Zm60-500h600v-160H180v160Zm220 220h160v-160H400v160Zm0 220h160v-160H400v160ZM180-400h160v-160H180v160Zm440 0h160v-160H620v160ZM180-180h160v-160H180v160Zm440 0h160v-160H620v160Z\"/>\n",
              "  </svg>\n",
              "    </button>\n",
              "\n",
              "  <style>\n",
              "    .colab-df-container {\n",
              "      display:flex;\n",
              "      gap: 12px;\n",
              "    }\n",
              "\n",
              "    .colab-df-convert {\n",
              "      background-color: #E8F0FE;\n",
              "      border: none;\n",
              "      border-radius: 50%;\n",
              "      cursor: pointer;\n",
              "      display: none;\n",
              "      fill: #1967D2;\n",
              "      height: 32px;\n",
              "      padding: 0 0 0 0;\n",
              "      width: 32px;\n",
              "    }\n",
              "\n",
              "    .colab-df-convert:hover {\n",
              "      background-color: #E2EBFA;\n",
              "      box-shadow: 0px 1px 2px rgba(60, 64, 67, 0.3), 0px 1px 3px 1px rgba(60, 64, 67, 0.15);\n",
              "      fill: #174EA6;\n",
              "    }\n",
              "\n",
              "    .colab-df-buttons div {\n",
              "      margin-bottom: 4px;\n",
              "    }\n",
              "\n",
              "    [theme=dark] .colab-df-convert {\n",
              "      background-color: #3B4455;\n",
              "      fill: #D2E3FC;\n",
              "    }\n",
              "\n",
              "    [theme=dark] .colab-df-convert:hover {\n",
              "      background-color: #434B5C;\n",
              "      box-shadow: 0px 1px 3px 1px rgba(0, 0, 0, 0.15);\n",
              "      filter: drop-shadow(0px 1px 2px rgba(0, 0, 0, 0.3));\n",
              "      fill: #FFFFFF;\n",
              "    }\n",
              "  </style>\n",
              "\n",
              "    <script>\n",
              "      const buttonEl =\n",
              "        document.querySelector('#df-8fbab49b-7bd6-4796-9f65-ac01438a2012 button.colab-df-convert');\n",
              "      buttonEl.style.display =\n",
              "        google.colab.kernel.accessAllowed ? 'block' : 'none';\n",
              "\n",
              "      async function convertToInteractive(key) {\n",
              "        const element = document.querySelector('#df-8fbab49b-7bd6-4796-9f65-ac01438a2012');\n",
              "        const dataTable =\n",
              "          await google.colab.kernel.invokeFunction('convertToInteractive',\n",
              "                                                    [key], {});\n",
              "        if (!dataTable) return;\n",
              "\n",
              "        const docLinkHtml = 'Like what you see? Visit the ' +\n",
              "          '<a target=\"_blank\" href=https://colab.research.google.com/notebooks/data_table.ipynb>data table notebook</a>'\n",
              "          + ' to learn more about interactive tables.';\n",
              "        element.innerHTML = '';\n",
              "        dataTable['output_type'] = 'display_data';\n",
              "        await google.colab.output.renderOutput(dataTable, element);\n",
              "        const docLink = document.createElement('div');\n",
              "        docLink.innerHTML = docLinkHtml;\n",
              "        element.appendChild(docLink);\n",
              "      }\n",
              "    </script>\n",
              "  </div>\n",
              "\n",
              "\n",
              "<div id=\"df-df9f6b91-23e9-4839-93a7-81549a2bce8b\">\n",
              "  <button class=\"colab-df-quickchart\" onclick=\"quickchart('df-df9f6b91-23e9-4839-93a7-81549a2bce8b')\"\n",
              "            title=\"Suggest charts\"\n",
              "            style=\"display:none;\">\n",
              "\n",
              "<svg xmlns=\"http://www.w3.org/2000/svg\" height=\"24px\"viewBox=\"0 0 24 24\"\n",
              "     width=\"24px\">\n",
              "    <g>\n",
              "        <path d=\"M19 3H5c-1.1 0-2 .9-2 2v14c0 1.1.9 2 2 2h14c1.1 0 2-.9 2-2V5c0-1.1-.9-2-2-2zM9 17H7v-7h2v7zm4 0h-2V7h2v10zm4 0h-2v-4h2v4z\"/>\n",
              "    </g>\n",
              "</svg>\n",
              "  </button>\n",
              "\n",
              "<style>\n",
              "  .colab-df-quickchart {\n",
              "      --bg-color: #E8F0FE;\n",
              "      --fill-color: #1967D2;\n",
              "      --hover-bg-color: #E2EBFA;\n",
              "      --hover-fill-color: #174EA6;\n",
              "      --disabled-fill-color: #AAA;\n",
              "      --disabled-bg-color: #DDD;\n",
              "  }\n",
              "\n",
              "  [theme=dark] .colab-df-quickchart {\n",
              "      --bg-color: #3B4455;\n",
              "      --fill-color: #D2E3FC;\n",
              "      --hover-bg-color: #434B5C;\n",
              "      --hover-fill-color: #FFFFFF;\n",
              "      --disabled-bg-color: #3B4455;\n",
              "      --disabled-fill-color: #666;\n",
              "  }\n",
              "\n",
              "  .colab-df-quickchart {\n",
              "    background-color: var(--bg-color);\n",
              "    border: none;\n",
              "    border-radius: 50%;\n",
              "    cursor: pointer;\n",
              "    display: none;\n",
              "    fill: var(--fill-color);\n",
              "    height: 32px;\n",
              "    padding: 0;\n",
              "    width: 32px;\n",
              "  }\n",
              "\n",
              "  .colab-df-quickchart:hover {\n",
              "    background-color: var(--hover-bg-color);\n",
              "    box-shadow: 0 1px 2px rgba(60, 64, 67, 0.3), 0 1px 3px 1px rgba(60, 64, 67, 0.15);\n",
              "    fill: var(--button-hover-fill-color);\n",
              "  }\n",
              "\n",
              "  .colab-df-quickchart-complete:disabled,\n",
              "  .colab-df-quickchart-complete:disabled:hover {\n",
              "    background-color: var(--disabled-bg-color);\n",
              "    fill: var(--disabled-fill-color);\n",
              "    box-shadow: none;\n",
              "  }\n",
              "\n",
              "  .colab-df-spinner {\n",
              "    border: 2px solid var(--fill-color);\n",
              "    border-color: transparent;\n",
              "    border-bottom-color: var(--fill-color);\n",
              "    animation:\n",
              "      spin 1s steps(1) infinite;\n",
              "  }\n",
              "\n",
              "  @keyframes spin {\n",
              "    0% {\n",
              "      border-color: transparent;\n",
              "      border-bottom-color: var(--fill-color);\n",
              "      border-left-color: var(--fill-color);\n",
              "    }\n",
              "    20% {\n",
              "      border-color: transparent;\n",
              "      border-left-color: var(--fill-color);\n",
              "      border-top-color: var(--fill-color);\n",
              "    }\n",
              "    30% {\n",
              "      border-color: transparent;\n",
              "      border-left-color: var(--fill-color);\n",
              "      border-top-color: var(--fill-color);\n",
              "      border-right-color: var(--fill-color);\n",
              "    }\n",
              "    40% {\n",
              "      border-color: transparent;\n",
              "      border-right-color: var(--fill-color);\n",
              "      border-top-color: var(--fill-color);\n",
              "    }\n",
              "    60% {\n",
              "      border-color: transparent;\n",
              "      border-right-color: var(--fill-color);\n",
              "    }\n",
              "    80% {\n",
              "      border-color: transparent;\n",
              "      border-right-color: var(--fill-color);\n",
              "      border-bottom-color: var(--fill-color);\n",
              "    }\n",
              "    90% {\n",
              "      border-color: transparent;\n",
              "      border-bottom-color: var(--fill-color);\n",
              "    }\n",
              "  }\n",
              "</style>\n",
              "\n",
              "  <script>\n",
              "    async function quickchart(key) {\n",
              "      const quickchartButtonEl =\n",
              "        document.querySelector('#' + key + ' button');\n",
              "      quickchartButtonEl.disabled = true;  // To prevent multiple clicks.\n",
              "      quickchartButtonEl.classList.add('colab-df-spinner');\n",
              "      try {\n",
              "        const charts = await google.colab.kernel.invokeFunction(\n",
              "            'suggestCharts', [key], {});\n",
              "      } catch (error) {\n",
              "        console.error('Error during call to suggestCharts:', error);\n",
              "      }\n",
              "      quickchartButtonEl.classList.remove('colab-df-spinner');\n",
              "      quickchartButtonEl.classList.add('colab-df-quickchart-complete');\n",
              "    }\n",
              "    (() => {\n",
              "      let quickchartButtonEl =\n",
              "        document.querySelector('#df-df9f6b91-23e9-4839-93a7-81549a2bce8b button');\n",
              "      quickchartButtonEl.style.display =\n",
              "        google.colab.kernel.accessAllowed ? 'block' : 'none';\n",
              "    })();\n",
              "  </script>\n",
              "</div>\n",
              "\n",
              "    </div>\n",
              "  </div>\n"
            ],
            "application/vnd.google.colaboratory.intrinsic+json": {
              "type": "dataframe",
              "variable_name": "test_data",
              "summary": "{\n  \"name\": \"test_data\",\n  \"rows\": 10,\n  \"fields\": [\n    {\n      \"column\": \"reviews\",\n      \"properties\": {\n        \"dtype\": \"string\",\n        \"num_unique_values\": 10,\n        \"samples\": [\n          \"1: This machine works so nice. It is quite and goes through all the cycles pretty fast. My clothes are so clean. I couldn't be happier!\\\\n2: Cleans great, a lot bigger in the inside than I was expecting. Happy customer!\\\\n3: I am very impressed! Great price point and my clothes are washing and drying so well. Very satisfied with this purchase!\\\\n4: Have been using it for a month and I love it way more than the fancy expensive machine on the market! My clothes get clean, it's not loud, and I really love it.\\\\n5: Clothes get so clean and smell so wonderful! I love this washing machine. I prefer the agitator any day over the more modern washing machines. It does a fantastic job\\\\n6: I\\u2019ve only had it for a month but very satisfied so far.\\\\n7: Does a great job on my family\\u2019s clothes. Easy to use and very good looking.\\\\n8: I have owned my new washer for about a week. Everything went well about the installation and the washer cleans clothes so well! Very efficient use of water as well. It seems to be a good washer especially since it is priced so reasonably priced!\\\\n9: It washes and spins your clothes out so very well that it only needs one drying cycle!! Saves time doing laundry and excellent washing!!\\\\n10: This has been an excellent, quality appliance that was reasonable priced. The features are easy to use , along with an agitator, the clothes are well cleaned. The clothes almost spin out dry.\\\\n\",\n          \"1: Works great! No leaks, sturdy build, relatively quiet, and efficient.\\\\n2: This washer is amazing!! No center piece that clothes can get tangled on, and very spacious. The wash is efficient, quiet, and very good. I have never had a washer like this, and I\\u2019m so glad I have one now. I can put in very large loads and absolutely everything gets cleaned. Amazing!\\\\n3: We couldn't be happier with this washer. It has all the features we could possibly want or need at any price. Although I initially wanted to get a front load washer, this model is very water and energy efficient with HUGE capacity for the largest comforter we own. Our previous washer had an agitator that loved to eat the pull cords on shorts and sweat pants, and destroy fine lingerie. The impeller design in this model works every bit as well, without the damage to our clothing. It's extremely quiet, too - which is great since we have a small home. And.. the problem with front loaders is they make a mess if you open them after starting a load. We shopped around and did a lot of research, and after finding this model, we were more than pleased to discover that PQR products are still made in the USA - buy American!!!\\\\n\",\n          \"1: So far I am very happy no issues easy to work and has done a great job washing our clothes the black stainless is so beautiful and the machines seams very sturdy\\\\n2: I bought this machine almost a year and work perfect and easy to use.\\\\n3: Easy to use, quiet, gets the job done effortlessly.\\\\n4: I purchased my washer 7 months ago and I'm impressed with how compact it is but I'm able to wash larger loads and it cleans the clothes as well overall it's an awesome product.\\\\n5: Its easy to use, it cleans perfectly and it doesn\\u2019t even make any noise! I really recommend it!\\\\n6: It is easy to use and cleans the laundry well.\\\\n7: It runs quite and easy to clran\\\\n8: So far so good, installed today and used twice already. My washer/dryer hookup is in the kitchen and this is pretty quiet which is a plus.\\\\n9: Work on cleaning my clothes very well. It spins out water completely. I\\u2019m happy I purchased this machine. Save water as it only uses what\\u2019s needed for cloths.\\\\n10: I bought this machine a few months ago and am very happy with it overall. There are enough options for the settings to choose from to fit all my needs...whites, actives, beddings etc, I also like the Self Clean reminder. I don't have to worry about keeping track of when I last did the cleaning. It uses less water than my previous machine and is pretty quiet. I would highly recomment it.\\\\n\"\n        ],\n        \"semantic_type\": \"\",\n        \"description\": \"\"\n      }\n    },\n    {\n      \"column\": \"summary\",\n      \"properties\": {\n        \"dtype\": \"string\",\n        \"num_unique_values\": 10,\n        \"samples\": [\n          \"Features customers liked about the product: 1. The machine works quietly and efficiently. 2. It is spacious inside, exceeding customer's expectations. 3. The price point is attractive and affordable. 4. The machine cleans clothes well and effectively. 5. The machine is not loud, making it user-friendly and convenient. 6. The agitator is preferred over more modern washing machines. 7. The machine is easy to use and visually appealing. 8. The washer is reasonably priced and efficient in water usage. 9. The machine can wash and spin out clothes so well that only one drying cycle is needed. 10. The machine is a quality appliance with easy-to-use features and an agitator that ensures well-cleaned clothes. Features customers did not like about the product: 1. No specific features were mentioned as not liking by customers.\",\n          \"Features customers liked about the washer: 1. No leaks 2. Sturdy build 3. Relatively quiet 4. Efficient washing 5. Spacious interior 6. No center piece that clothes can get tangled on 7. Wash is efficient, quiet, and very good 8. Can put in very large loads 9. Everything gets cleaned 10. Impeller design works well without damaging clothing 11. Extremely quiet 12. Made in the USA Features customers did not like about the washer: 1. No specific features were mentioned as not being liked.\",\n          \"Features customers are happy about: 1. Easy to use 2. efficient cleaning 3. quiet operation 4. compact size 5. various settings 6. self-clean reminder 7. water conservation. Features customers did not like about the product: 1. None mentioned in the provided reviews.\"\n        ],\n        \"semantic_type\": \"\",\n        \"description\": \"\"\n      }\n    }\n  ]\n}"
            }
          },
          "metadata": {},
          "execution_count": 9
        }
      ],
      "source": [
        "test_data.head()"
      ]
    },
    {
      "cell_type": "markdown",
      "metadata": {
        "id": "WBYijhx9fZgl"
      },
      "source": [
        "<a id=\"models\"></a>\n",
        "## Foundation Models on Watsonx"
      ]
    },
    {
      "cell_type": "markdown",
      "metadata": {
        "id": "sGSfLfO0fZgl"
      },
      "source": [
        "\n",
        "\n",
        "Below code invokes Watson Machine Learning API to invoke Watsonx.ai LLMs\n"
      ]
    },
    {
      "cell_type": "code",
      "execution_count": 10,
      "metadata": {
        "id": "-4h2OwdyfZgl"
      },
      "outputs": [],
      "source": [
        "import requests\n",
        "\n",
        "class Prompt:\n",
        "    def __init__(self, access_token, project_id):\n",
        "        self.access_token = access_token\n",
        "        self.project_id = project_id\n",
        "\n",
        "    def generate(self, input, model_id, parameters):\n",
        "        wml_url = \"https://us-south.ml.cloud.ibm.com/ml/v1-beta/generation/text?version=2023-05-28\"\n",
        "        Headers = {\n",
        "            \"Authorization\": \"Bearer \" + self.access_token,\n",
        "            \"Content-Type\": \"application/json\",\n",
        "            \"Accept\": \"application/json\"\n",
        "        }\n",
        "        data = {\n",
        "            \"model_id\": model_id,\n",
        "            \"input\": input,\n",
        "            \"parameters\": parameters,\n",
        "            \"project_id\": self.project_id\n",
        "        }\n",
        "        response = requests.post(wml_url, json=data, headers=Headers)\n",
        "        if response.status_code == 200:\n",
        "            return response.json()[\"results\"][0][\"generated_text\"]\n",
        "        else:\n",
        "            return response.text"
      ]
    },
    {
      "cell_type": "markdown",
      "metadata": {
        "id": "wjvlfZ0gfZgl"
      },
      "source": [
        "<a id=\"predict\"></a>\n",
        "## Evaluate the model, prompt and parameters"
      ]
    },
    {
      "cell_type": "markdown",
      "metadata": {
        "id": "jVdrCOWbfZgl"
      },
      "source": [
        "### **Analyze Product Reviews**"
      ]
    },
    {
      "cell_type": "markdown",
      "metadata": {
        "id": "mm64dZE_fZgl"
      },
      "source": [
        "Define instructions for the model to summarize product reviews.\n",
        "\n",
        "**Note:** Please **start with using [watsonx.ai Prompt Lab](https://dataplatform.cloud.ibm.com/wx/home?context=wx)** to find better prompts that provides you the best result on a small subset training records (under `train_data` variable). Make sure to not run an inference of all of `train_data`, as it'll take a long time to get the results. To get a sample from `train_data`, you can use e.g.`train_data.head(n=10)` to get first 10 records, or `train_data.sample(n=10)` to get random 10 records. Only once you have identified the best performing prompt, update this notebook to use the prompt and compute the metrics on the test data.\n",
        "\n",
        "**Action:** Please edit the below cell and add your own prompt here. In the below prompt, we have the instruction (first sentence) and tags like [Document], [End] and <|assistant|> which help to organize inputs and outputs in a better way. (reference - https://dataplatform.cloud.ibm.com/docs/content/wsj/analyze-data/fm-models-ibm-chat.html?context=wx)\n",
        "\n",
        "It will act as a starting point for the participants. You will enhance it to get expected output.\n",
        "\n",
        "Change the prompt or add your own examples or more examples and replance it in the below cell.\n",
        "\n",
        "\n",
        "**Note:** In below prompt {reviews} needs to be replaced with input product review that needs to be summarised. Rest all is part of the prompt."
      ]
    },
    {
      "cell_type": "code",
      "execution_count": 109,
      "metadata": {
        "id": "LmBoj_AxfZgl"
      },
      "outputs": [],
      "source": [
        "summarize_instruction = \"\"\"\n",
        "\n",
        "Analyze the given customer reviews and create two lists summarizing the product features:\n",
        "\n",
        "1. Features customers liked about the product:\n",
        "- List 8-12 positive features mentioned frequently in the reviews.\n",
        "- Use simple, clear language matching the reviews closely.\n",
        "- Start each point with an action verb or descriptive adjective when possible.\n",
        "- Include specific product details, measurements, or comparisons if mentioned.\n",
        "- Number each feature.\n",
        "\n",
        "2. Features customers did not like about the product:\n",
        "- If negative aspects are mentioned, list 1-3 issues.\n",
        "- If no negatives are found, write exactly: \"1. No specific features were mentioned as not being liked by customers in the given reviews.\"\n",
        "\n",
        "Format your response exactly as follows:\n",
        "\n",
        "Features customers liked about the product: 1. [Feature 1] 2. [Feature 2] 3. [Feature 3] 4. [Feature 4] 5. [Feature 5] 6. [Feature 6] 7. [Feature 7] 8. [Feature 8] [continue if more]\n",
        "\n",
        "Features customers did not like about the product: 1. [Issue 1] 2. [Issue 2] (if applicable) 3. [Issue 3] (if applicable)\n",
        "\n",
        "Critical instructions:\n",
        "- Use only information directly stated in the reviews.\n",
        "- Do not add any personal opinions or inferences.\n",
        "- Keep language extremely simple and concise.\n",
        "- Use exact headings as shown above, followed by a colon and space.\n",
        "- Separate the two lists with a single blank line.\n",
        "- For positive features, focus on performance, ease of use, design, and efficiency.\n",
        "- For negative features, focus on any consistent complaints or issues mentioned.\n",
        "[Document]\n",
        "{reviews}\n",
        "[End]\n",
        "\n",
        "\n",
        "<|assistant|>\n",
        "\n",
        "\"\"\"\n"
      ]
    },
    {
      "cell_type": "markdown",
      "metadata": {
        "id": "8i50hRzVfZgl"
      },
      "source": [
        "### Defining the model parameters\n",
        "We need to provide a set of model parameters that will influence the result. We will use IBM's Granite model. parameters can be updated based on prompt."
      ]
    },
    {
      "cell_type": "code",
      "execution_count": 110,
      "metadata": {
        "id": "3WcjHo0afZgl"
      },
      "outputs": [],
      "source": [
        "parameters = {\n",
        "    \"decoding_method\": \"greedy\",\"\"\n",
        "    \"max_new_tokens\": 300,\n",
        "    \"min_new_tokens\": 50,\n",
        "    \"repetition_penalty\": 1\n",
        "}\n",
        "\n",
        "model_id = \"ibm/granite-13b-chat-v2\""
      ]
    },
    {
      "cell_type": "markdown",
      "metadata": {
        "id": "Jp8dlUKTfZgl"
      },
      "source": [
        "Analyze the summary of product reviews for inputs from the test set.\n",
        "\n",
        "**Note:** Execution of this cell could take several minutes."
      ]
    },
    {
      "cell_type": "code",
      "execution_count": 111,
      "metadata": {
        "id": "wS9y27iYfZgl"
      },
      "outputs": [],
      "source": [
        "results = []\n",
        "prompt = Prompt(access_token, project_id)\n",
        "product_reviews = list(test_data.reviews)\n",
        "summary = list(test_data.summary.astype(str))\n",
        "\n",
        "for review in product_reviews:\n",
        "    # Below line of code replaces {reviews} from prompt with input product review that needs to be summarised. You might need to change or replace it based on your prompt to add review.\n",
        "    prompt_instruction = summarize_instruction.format(reviews=review)\n",
        "    results.append(prompt.generate(prompt_instruction, model_id, parameters).replace(\"\\n\",\"\"))"
      ]
    },
    {
      "cell_type": "markdown",
      "metadata": {
        "id": "RXNbDCXZfZgl"
      },
      "source": [
        "### Calculate the Rouge Scores"
      ]
    },
    {
      "cell_type": "code",
      "execution_count": 112,
      "metadata": {
        "id": "z1QdAIFZfZgl"
      },
      "outputs": [],
      "source": [
        "# load the rouge score logic for summarization evaluation\n",
        "# To adjust this to different task other than summarization import different evalualtion metric from HF\n",
        "rouge_scorer_hf = evaluate.load('rouge')"
      ]
    },
    {
      "cell_type": "code",
      "execution_count": 113,
      "metadata": {
        "id": "8-t52Wm6fZgl"
      },
      "outputs": [],
      "source": [
        "# test score: 50% of the words from the reference summary occur in the generated summary - should be rouge1 score should be 0.5\n",
        "rouge_scores = rouge_scorer_hf.compute(predictions = results,\n",
        "                        references = summary)"
      ]
    },
    {
      "cell_type": "code",
      "execution_count": 114,
      "metadata": {
        "id": "TDHVRLPqfZgl",
        "colab": {
          "base_uri": "https://localhost:8080/"
        },
        "outputId": "71dd8ea0-f244-4a89-d089-998776a3b937"
      },
      "outputs": [
        {
          "output_type": "stream",
          "name": "stdout",
          "text": [
            "0.5384949737541938\n"
          ]
        }
      ],
      "source": [
        "print(rouge_scores['rouge1'])"
      ]
    }
  ],
  "metadata": {
    "colab": {
      "provenance": [],
      "include_colab_link": true
    },
    "kernelspec": {
      "display_name": "Python 3",
      "name": "python3"
    },
    "language_info": {
      "codemirror_mode": {
        "name": "ipython",
        "version": 3
      },
      "file_extension": ".py",
      "mimetype": "text/x-python",
      "name": "python",
      "nbconvert_exporter": "python",
      "pygments_lexer": "ipython3",
      "version": "3.10.13"
    }
  },
  "nbformat": 4,
  "nbformat_minor": 0
}